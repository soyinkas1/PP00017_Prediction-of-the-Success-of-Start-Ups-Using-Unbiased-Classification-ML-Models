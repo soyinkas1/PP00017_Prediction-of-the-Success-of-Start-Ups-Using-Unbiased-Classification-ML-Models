{
 "cells": [
  {
   "cell_type": "code",
   "execution_count": 1,
   "id": "20e96f3e",
   "metadata": {},
   "outputs": [],
   "source": [
    "import pandas as pd"
   ]
  },
  {
   "cell_type": "code",
   "execution_count": 2,
   "id": "86a6572d",
   "metadata": {},
   "outputs": [],
   "source": [
    "df = pd.read_csv('D:\\\\OneDrive\\\\Documents\\\\Personal Project Portfolio\\\\PP00017_Prediction of the Success of Start-Ups\\\\artifacts\\\\train_audit.csv')"
   ]
  },
  {
   "cell_type": "code",
   "execution_count": 3,
   "id": "52f7cbf5",
   "metadata": {},
   "outputs": [
    {
     "name": "stdout",
     "output_type": "stream",
     "text": [
      "<class 'pandas.core.frame.DataFrame'>\n",
      "RangeIndex: 130292 entries, 0 to 130291\n",
      "Data columns (total 23 columns):\n",
      " #   Column                    Non-Null Count   Dtype  \n",
      "---  ------                    --------------   -----  \n",
      " 0   yrs_of_operation          130292 non-null  int64  \n",
      " 1   yrs_since_last_funding    130292 non-null  int64  \n",
      " 2   degree_length             130292 non-null  int64  \n",
      " 3   per_exp_at_coy_start      130292 non-null  int64  \n",
      " 4   sponsor                   130292 non-null  int64  \n",
      " 5   speaker                   130292 non-null  int64  \n",
      " 6   organizer                 130292 non-null  int64  \n",
      " 7   exhibitor                 130292 non-null  int64  \n",
      " 8   employee_count            130292 non-null  int64  \n",
      " 9   total_funding_usd         130292 non-null  float64\n",
      " 10  organization_description  130292 non-null  object \n",
      " 11  people_description        130292 non-null  object \n",
      " 12  status                    130292 non-null  object \n",
      " 13  category_list             130292 non-null  object \n",
      " 14  category_groups_list      130292 non-null  object \n",
      " 15  primary_role              130292 non-null  object \n",
      " 16  gender                    130292 non-null  object \n",
      " 17  featured_job_title        130292 non-null  object \n",
      " 18  institution_name          130292 non-null  object \n",
      " 19  degree_type               130292 non-null  object \n",
      " 20  subject                   130292 non-null  object \n",
      " 21  degree_is_completed       130292 non-null  bool   \n",
      " 22  success                   130292 non-null  int64  \n",
      "dtypes: bool(1), float64(1), int64(10), object(11)\n",
      "memory usage: 22.0+ MB\n"
     ]
    }
   ],
   "source": [
    "df.info()"
   ]
  },
  {
   "cell_type": "code",
   "execution_count": null,
   "id": "144994cc",
   "metadata": {},
   "outputs": [],
   "source": []
  }
 ],
 "metadata": {
  "kernelspec": {
   "display_name": "Python 3 (ipykernel)",
   "language": "python",
   "name": "python3"
  },
  "language_info": {
   "codemirror_mode": {
    "name": "ipython",
    "version": 3
   },
   "file_extension": ".py",
   "mimetype": "text/x-python",
   "name": "python",
   "nbconvert_exporter": "python",
   "pygments_lexer": "ipython3",
   "version": "3.12.3"
  },
  "toc": {
   "base_numbering": 1,
   "nav_menu": {},
   "number_sections": true,
   "sideBar": true,
   "skip_h1_title": true,
   "title_cell": "Table of Contents",
   "title_sidebar": "Contents",
   "toc_cell": false,
   "toc_position": {},
   "toc_section_display": true,
   "toc_window_display": false
  }
 },
 "nbformat": 4,
 "nbformat_minor": 5
}
