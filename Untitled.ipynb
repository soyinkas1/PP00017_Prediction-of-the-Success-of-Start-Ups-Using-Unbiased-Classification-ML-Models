{
 "cells": [
  {
   "cell_type": "code",
   "execution_count": 1,
   "id": "dff55d0d-4836-4c04-a1e1-a666de415217",
   "metadata": {},
   "outputs": [],
   "source": [
    "import pandas as pd\n"
   ]
  },
  {
   "cell_type": "code",
   "execution_count": 3,
   "id": "e3248f2b-3525-4777-8584-4e377703d273",
   "metadata": {},
   "outputs": [],
   "source": [
    "df = pd.read_csv('D:\\\\OneDrive\\\\Documents\\\\Personal Project Portfolio\\\\PP00017_Prediction of the Success of Start-Ups\\\\artifacts\\\\data_transformation\\\\transformed_data.csv')"
   ]
  },
  {
   "cell_type": "code",
   "execution_count": 4,
   "id": "801010f0-479d-4946-b21c-dbd58ab23c95",
   "metadata": {},
   "outputs": [
    {
     "name": "stdout",
     "output_type": "stream",
     "text": [
      "<class 'pandas.core.frame.DataFrame'>\n",
      "RangeIndex: 217154 entries, 0 to 217153\n",
      "Data columns (total 23 columns):\n",
      " #   Column                    Non-Null Count   Dtype  \n",
      "---  ------                    --------------   -----  \n",
      " 0   yrs_of_operation          217154 non-null  int64  \n",
      " 1   yrs_since_last_funding    217154 non-null  int64  \n",
      " 2   degree_length             217154 non-null  int64  \n",
      " 3   per_exp_at_coy_start      217154 non-null  int64  \n",
      " 4   sponsor                   217154 non-null  int64  \n",
      " 5   speaker                   217154 non-null  int64  \n",
      " 6   organizer                 217154 non-null  int64  \n",
      " 7   exhibitor                 217154 non-null  int64  \n",
      " 8   employee_count            217154 non-null  int64  \n",
      " 9   total_funding_usd         217154 non-null  float64\n",
      " 10  organization_description  217154 non-null  object \n",
      " 11  people_description        217154 non-null  object \n",
      " 12  status                    217154 non-null  object \n",
      " 13  category_list             217154 non-null  object \n",
      " 14  category_groups_list      217154 non-null  object \n",
      " 15  primary_role              217154 non-null  object \n",
      " 16  gender                    217154 non-null  object \n",
      " 17  featured_job_title        217154 non-null  object \n",
      " 18  institution_name          217154 non-null  object \n",
      " 19  degree_type               217154 non-null  object \n",
      " 20  subject                   217154 non-null  object \n",
      " 21  degree_is_completed       217154 non-null  bool   \n",
      " 22  success                   217154 non-null  int64  \n",
      "dtypes: bool(1), float64(1), int64(10), object(11)\n",
      "memory usage: 36.7+ MB\n"
     ]
    }
   ],
   "source": [
    "df.info()"
   ]
  },
  {
   "cell_type": "code",
   "execution_count": 5,
   "id": "ede28148-ea8d-46ea-bf8a-def6af7341fe",
   "metadata": {},
   "outputs": [
    {
     "data": {
      "text/plain": [
       "array([False,  True])"
      ]
     },
     "execution_count": 5,
     "metadata": {},
     "output_type": "execute_result"
    }
   ],
   "source": [
    "df['degree_is_completed'].unique()"
   ]
  },
  {
   "cell_type": "code",
   "execution_count": null,
   "id": "7adb7b01-434a-4493-b3d0-0b01d935b973",
   "metadata": {},
   "outputs": [],
   "source": []
  }
 ],
 "metadata": {
  "kernelspec": {
   "display_name": "Python 3 (ipykernel)",
   "language": "python",
   "name": "python3"
  },
  "language_info": {
   "codemirror_mode": {
    "name": "ipython",
    "version": 3
   },
   "file_extension": ".py",
   "mimetype": "text/x-python",
   "name": "python",
   "nbconvert_exporter": "python",
   "pygments_lexer": "ipython3",
   "version": "3.12.3"
  }
 },
 "nbformat": 4,
 "nbformat_minor": 5
}
