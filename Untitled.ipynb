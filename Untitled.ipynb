{
 "cells": [
  {
   "cell_type": "code",
   "execution_count": 1,
   "id": "dff55d0d-4836-4c04-a1e1-a666de415217",
   "metadata": {},
   "outputs": [],
   "source": [
    "import pandas as pd\n"
   ]
  },
  {
   "cell_type": "code",
   "execution_count": 6,
   "id": "e3248f2b-3525-4777-8584-4e377703d273",
   "metadata": {},
   "outputs": [],
   "source": [
    "df = pd.read_csv('D:\\\\OneDrive\\\\Documents\\\\Personal Project Portfolio\\\\PP00017_Prediction of the Success of Start-Ups\\\\artifacts\\\\train_audit.csv')"
   ]
  },
  {
   "cell_type": "code",
   "execution_count": 8,
   "id": "801010f0-479d-4946-b21c-dbd58ab23c95",
   "metadata": {},
   "outputs": [
    {
     "name": "stdout",
     "output_type": "stream",
     "text": [
      "<class 'pandas.core.frame.DataFrame'>\n",
      "RangeIndex: 130292 entries, 0 to 130291\n",
      "Data columns (total 23 columns):\n",
      " #   Column                    Non-Null Count   Dtype  \n",
      "---  ------                    --------------   -----  \n",
      " 0   yrs_of_operation          130292 non-null  int64  \n",
      " 1   yrs_since_last_funding    130292 non-null  int64  \n",
      " 2   degree_length             130292 non-null  int64  \n",
      " 3   per_exp_at_coy_start      130292 non-null  int64  \n",
      " 4   sponsor                   130292 non-null  int64  \n",
      " 5   speaker                   130292 non-null  int64  \n",
      " 6   organizer                 130292 non-null  int64  \n",
      " 7   exhibitor                 130292 non-null  int64  \n",
      " 8   employee_count            130292 non-null  int64  \n",
      " 9   total_funding_usd         130292 non-null  float64\n",
      " 10  organization_description  130292 non-null  object \n",
      " 11  people_description        130292 non-null  object \n",
      " 12  status                    130292 non-null  object \n",
      " 13  category_list             130292 non-null  object \n",
      " 14  category_groups_list      130292 non-null  object \n",
      " 15  primary_role              130292 non-null  object \n",
      " 16  gender                    130292 non-null  object \n",
      " 17  featured_job_title        130292 non-null  object \n",
      " 18  institution_name          130292 non-null  object \n",
      " 19  degree_type               130292 non-null  object \n",
      " 20  subject                   130292 non-null  object \n",
      " 21  degree_is_completed       130292 non-null  bool   \n",
      " 22  success                   130292 non-null  int64  \n",
      "dtypes: bool(1), float64(1), int64(10), object(11)\n",
      "memory usage: 22.0+ MB\n",
      "None\n"
     ]
    }
   ],
   "source": [
    "print(df.info())"
   ]
  },
  {
   "cell_type": "code",
   "execution_count": 5,
   "id": "ede28148-ea8d-46ea-bf8a-def6af7341fe",
   "metadata": {},
   "outputs": [
    {
     "data": {
      "text/plain": [
       "array([False,  True])"
      ]
     },
     "execution_count": 5,
     "metadata": {},
     "output_type": "execute_result"
    }
   ],
   "source": [
    "df['degree_is_completed'].unique()"
   ]
  },
  {
   "cell_type": "code",
   "execution_count": 11,
   "id": "7adb7b01-434a-4493-b3d0-0b01d935b973",
   "metadata": {},
   "outputs": [
    {
     "name": "stdout",
     "output_type": "stream",
     "text": [
      "2.2.2\n"
     ]
    }
   ],
   "source": [
    "import pandas as pd\n",
    "print(pd.__version__)\n"
   ]
  },
  {
   "cell_type": "code",
   "execution_count": 12,
   "id": "0f2a4278-11e8-4bc2-8f86-30a8f63f0f97",
   "metadata": {},
   "outputs": [],
   "source": [
    "df_type = pd.read_csv('D:\\\\OneDrive\\\\Documents\\\\Personal Project Portfolio\\\\PP00017_Prediction of the Success of Start-Ups\\\\artifacts\\\\train_dtype.csv')"
   ]
  },
  {
   "cell_type": "code",
   "execution_count": 13,
   "id": "537c77f6-9e79-435b-b5df-b9102f2a51af",
   "metadata": {},
   "outputs": [
    {
     "data": {
      "text/html": [
       "<div>\n",
       "<style scoped>\n",
       "    .dataframe tbody tr th:only-of-type {\n",
       "        vertical-align: middle;\n",
       "    }\n",
       "\n",
       "    .dataframe tbody tr th {\n",
       "        vertical-align: top;\n",
       "    }\n",
       "\n",
       "    .dataframe thead th {\n",
       "        text-align: right;\n",
       "    }\n",
       "</style>\n",
       "<table border=\"1\" class=\"dataframe\">\n",
       "  <thead>\n",
       "    <tr style=\"text-align: right;\">\n",
       "      <th></th>\n",
       "      <th>0</th>\n",
       "    </tr>\n",
       "  </thead>\n",
       "  <tbody>\n",
       "    <tr>\n",
       "      <th>0</th>\n",
       "      <td>int32</td>\n",
       "    </tr>\n",
       "    <tr>\n",
       "      <th>1</th>\n",
       "      <td>int32</td>\n",
       "    </tr>\n",
       "    <tr>\n",
       "      <th>2</th>\n",
       "      <td>int32</td>\n",
       "    </tr>\n",
       "    <tr>\n",
       "      <th>3</th>\n",
       "      <td>int32</td>\n",
       "    </tr>\n",
       "    <tr>\n",
       "      <th>4</th>\n",
       "      <td>int32</td>\n",
       "    </tr>\n",
       "    <tr>\n",
       "      <th>5</th>\n",
       "      <td>int32</td>\n",
       "    </tr>\n",
       "    <tr>\n",
       "      <th>6</th>\n",
       "      <td>int32</td>\n",
       "    </tr>\n",
       "    <tr>\n",
       "      <th>7</th>\n",
       "      <td>int32</td>\n",
       "    </tr>\n",
       "    <tr>\n",
       "      <th>8</th>\n",
       "      <td>int64</td>\n",
       "    </tr>\n",
       "    <tr>\n",
       "      <th>9</th>\n",
       "      <td>float64</td>\n",
       "    </tr>\n",
       "    <tr>\n",
       "      <th>10</th>\n",
       "      <td>object</td>\n",
       "    </tr>\n",
       "    <tr>\n",
       "      <th>11</th>\n",
       "      <td>object</td>\n",
       "    </tr>\n",
       "    <tr>\n",
       "      <th>12</th>\n",
       "      <td>object</td>\n",
       "    </tr>\n",
       "    <tr>\n",
       "      <th>13</th>\n",
       "      <td>object</td>\n",
       "    </tr>\n",
       "    <tr>\n",
       "      <th>14</th>\n",
       "      <td>object</td>\n",
       "    </tr>\n",
       "    <tr>\n",
       "      <th>15</th>\n",
       "      <td>object</td>\n",
       "    </tr>\n",
       "    <tr>\n",
       "      <th>16</th>\n",
       "      <td>object</td>\n",
       "    </tr>\n",
       "    <tr>\n",
       "      <th>17</th>\n",
       "      <td>object</td>\n",
       "    </tr>\n",
       "    <tr>\n",
       "      <th>18</th>\n",
       "      <td>object</td>\n",
       "    </tr>\n",
       "    <tr>\n",
       "      <th>19</th>\n",
       "      <td>object</td>\n",
       "    </tr>\n",
       "    <tr>\n",
       "      <th>20</th>\n",
       "      <td>object</td>\n",
       "    </tr>\n",
       "    <tr>\n",
       "      <th>21</th>\n",
       "      <td>object</td>\n",
       "    </tr>\n",
       "    <tr>\n",
       "      <th>22</th>\n",
       "      <td>int64</td>\n",
       "    </tr>\n",
       "  </tbody>\n",
       "</table>\n",
       "</div>"
      ],
      "text/plain": [
       "          0\n",
       "0     int32\n",
       "1     int32\n",
       "2     int32\n",
       "3     int32\n",
       "4     int32\n",
       "5     int32\n",
       "6     int32\n",
       "7     int32\n",
       "8     int64\n",
       "9   float64\n",
       "10   object\n",
       "11   object\n",
       "12   object\n",
       "13   object\n",
       "14   object\n",
       "15   object\n",
       "16   object\n",
       "17   object\n",
       "18   object\n",
       "19   object\n",
       "20   object\n",
       "21   object\n",
       "22    int64"
      ]
     },
     "execution_count": 13,
     "metadata": {},
     "output_type": "execute_result"
    }
   ],
   "source": [
    "df_type"
   ]
  },
  {
   "cell_type": "code",
   "execution_count": 14,
   "id": "7b85953a-a280-4402-805d-68f397ba4cc8",
   "metadata": {},
   "outputs": [
    {
     "data": {
      "text/plain": [
       "yrs_of_operation              int64\n",
       "yrs_since_last_funding        int64\n",
       "degree_length                 int64\n",
       "per_exp_at_coy_start          int64\n",
       "sponsor                       int64\n",
       "speaker                       int64\n",
       "organizer                     int64\n",
       "exhibitor                     int64\n",
       "employee_count                int64\n",
       "total_funding_usd           float64\n",
       "organization_description     object\n",
       "people_description           object\n",
       "status                       object\n",
       "category_list                object\n",
       "category_groups_list         object\n",
       "primary_role                 object\n",
       "gender                       object\n",
       "featured_job_title           object\n",
       "institution_name             object\n",
       "degree_type                  object\n",
       "subject                      object\n",
       "degree_is_completed            bool\n",
       "success                       int64\n",
       "dtype: object"
      ]
     },
     "execution_count": 14,
     "metadata": {},
     "output_type": "execute_result"
    }
   ],
   "source": [
    "df.dtypes"
   ]
  },
  {
   "cell_type": "code",
   "execution_count": null,
   "id": "18ca14b3-d607-4efe-bc8a-6e7e1130f2dd",
   "metadata": {},
   "outputs": [],
   "source": []
  }
 ],
 "metadata": {
  "kernelspec": {
   "display_name": "Python 3 (ipykernel)",
   "language": "python",
   "name": "python3"
  },
  "language_info": {
   "codemirror_mode": {
    "name": "ipython",
    "version": 3
   },
   "file_extension": ".py",
   "mimetype": "text/x-python",
   "name": "python",
   "nbconvert_exporter": "python",
   "pygments_lexer": "ipython3",
   "version": "3.12.3"
  }
 },
 "nbformat": 4,
 "nbformat_minor": 5
}
